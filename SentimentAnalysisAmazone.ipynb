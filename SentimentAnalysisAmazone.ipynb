{
 "cells": [
  {
   "cell_type": "code",
   "execution_count": 1,
   "metadata": {},
   "outputs": [],
   "source": [
    "import nltk\n",
    "import glob\n",
    "import os\n",
    "import pandas as pd\n",
    "import xml.etree.ElementTree as ET\n",
    "import re\n",
    "from bs4 import BeautifulSoup as bs\n",
    "from bs4 import BeautifulStoneSoup\n",
    "import nltk\n",
    "from nltk.stem.porter import PorterStemmer\n",
    "from nltk.stem.wordnet import WordNetLemmatizer\n",
    "from sklearn.model_selection import train_test_split\n",
    "import numpy as np\n",
    "from sklearn.preprocessing import OneHotEncoder, LabelEncoder\n",
    "from nltk.tokenize import word_tokenize\n",
    "from nltk.corpus import stopwords\n",
    "\n",
    "from sklearn.feature_extraction.text import CountVectorizer\n",
    "from sklearn.naive_bayes import MultinomialNB\n",
    "\n",
    "from sklearn.feature_extraction.text import TfidfVectorizer\n",
    "from sklearn import svm\n",
    "\n",
    "from sklearn.metrics import confusion_matrix\n",
    "import matplotlib.pyplot as plt\n",
    "from sklearn.metrics import confusion_matrix\n",
    "import itertools\n"
   ]
  },
  {
   "cell_type": "code",
   "execution_count": 2,
   "metadata": {},
   "outputs": [],
   "source": [
    "def read_file(file_path = \"sentiment_data/electronics\", file_name = \"negative.review\"):\n",
    "    files = glob.glob(file_path)\n",
    "    data = []\n",
    "    labels = {}\n",
    "    sentiment = file_name.split(\".\")[0]\n",
    "    review_file = os.path.join(file_path, file_name)\n",
    "    file = glob.glob(review_file)[0]\n",
    "\n",
    "    with open(file) as review:\n",
    "        xml_string = review.read()\n",
    "        soup = bs(xml_string)\n",
    "\n",
    "        for i in soup.find_all('review_text'):\n",
    "            text = bs(i.get_text())\n",
    "            data.append(text.get_text())\n",
    "    return data\n",
    "\n",
    "def create_dataframe(dir_name):\n",
    "    final_data = []\n",
    "    for filename in ['positive.review', 'negative.review']:\n",
    "        data = read_file(file_path=dir_name, file_name=filename)\n",
    "        sentiment_val = 1 if filename.split(\".\")[0] == 'positive' else 0\n",
    "        final_data.append({\"review\" : data, \"sentiment\" : sentiment_val})\n",
    "\n",
    "    df = pd.DataFrame().from_dict(final_data[0])\n",
    "    df2 = pd.DataFrame().from_dict(final_data[1])\n",
    "    df = df.append(df2)\n",
    "    return df        "
   ]
  },
  {
   "cell_type": "code",
   "execution_count": 446,
   "metadata": {},
   "outputs": [],
   "source": [
    "def calculate_accuracy(test_pred, y_test):\n",
    "    true_positive = 0;\n",
    "    true_negative = 0;\n",
    "    false_positive = 0;\n",
    "    false_negative = 0;\n",
    "    correct = 0\n",
    "    for ind, i in enumerate(y_test.iteritems()):        \n",
    "        if(i[1] == 1 and test_pred[ind] == 1):\n",
    "                true_positive += 1\n",
    "\n",
    "        if(i[1] == 1 and test_pred[ind] == 0):\n",
    "                true_negative += 1\n",
    "\n",
    "        if(i[1] == 0 and test_pred[ind] == 0):\n",
    "                false_positive += 1\n",
    "\n",
    "        if(i[1] == 0 and test_pred[ind] == 1):\n",
    "                false_negative += 1\n",
    "\n",
    "    print(\"True Positive : \" , true_positive)\n",
    "    print(\"True Negative : \" , true_negative)\n",
    "    print(\"false Positive : \" , false_positive)\n",
    "    print(\"false Negative : \" , false_negative)\n",
    "    \n",
    "    \n",
    "\n",
    "    true_prob = true_positive/(true_positive + true_negative)\n",
    "    false_prob = false_positive/(false_positive + false_negative)\n",
    "    accuracy = (true_prob + false_prob)/2\n",
    "    \n",
    "    print(accuracy)\n",
    "    result_dict = {\"true positive \" : true_positive, \"true negative\" : true_negative, \"false positive\":false_positive, \"false negative\":false_negative}\n",
    "    accuracy_dict = {\"accuracy\" : accuracy}\n",
    "#     return accuracy_dict, result_dict\n",
    "    "
   ]
  },
  {
   "cell_type": "code",
   "execution_count": 253,
   "metadata": {},
   "outputs": [],
   "source": [
    "class MultinomialTFIDF:\n",
    "    def __init__(self):\n",
    "        self.clf_tf_vect = MultinomialNB()\n",
    "        self.tf_vectorizer = TfidfVectorizer(min_df = 1, max_df = 0.8, ngram_range=(1,3), stop_words = 'english')\n",
    "        self.count_vect = CountVectorizer(min_df = 1, max_df = 0.8, ngram_range=(1,3), stop_words = 'english')\n",
    "\n",
    "    def vectorize_dataset(self, dir_name, select_vectorizer):        \n",
    "#         Create a dataframe with reviews and its sentiment\n",
    "        if(select_vectorizer == \"count\"):\n",
    "            self.vectorizer = self.count_vect\n",
    "        else:\n",
    "            self.vectorizer= self.tf_vectorizer\n",
    "        \n",
    "        df = create_dataframe(dir_name)\n",
    "        \n",
    "        X= df.loc[:, 'review']\n",
    "        Y= df.loc[:, 'sentiment']\n",
    "\n",
    "#         Split the data into training set and test set for validation\n",
    "        x_train,x_test,y_train,y_test = train_test_split(X, Y, test_size = 0.2, random_state = 0)\n",
    "        tf = self.vectorizer.fit_transform(X)\n",
    "\n",
    "        tf_columns = list(self.vectorizer.fit(X).vocabulary_.keys())\n",
    "        \n",
    "        df31 = pd.DataFrame(tf.toarray(), columns=tf_columns)\n",
    "        \n",
    "        df31['sentiment'] = Y.tolist()\n",
    "        self.XT_train, self.XT_test, self.YT_train, self.YT_test = train_test_split(df31.iloc[:, :-1], df31.iloc[:, -1], test_size = 0.2, random_state = 0)\n",
    "        \n",
    "\n",
    "    def create_multinomial_tfidf(self):\n",
    "        self.clf_tf_vect.fit(self.XT_train, self.YT_train)\n",
    "\n",
    "    def test_multinomial_tfidf(self):\n",
    "        test = self.clf_tf_vect.predict(self.XT_test)\n",
    "        return test\n",
    "    \n",
    "    def get_vectorizer(self):\n",
    "        return self.vectorizer\n",
    "\n",
    "    def predict(self, sentence):\n",
    "#         list_sentence = []\n",
    "#         list_sentence.append(sentence)\n",
    "        pred = self.clf_tf_vect.predict(sentence)\n",
    "        return pred"
   ]
  },
  {
   "cell_type": "code",
   "execution_count": 318,
   "metadata": {},
   "outputs": [],
   "source": [
    "def plot_confusionmatrix(y_pred, t_test):\n",
    "    cm = confusion_matrix(y_pred, y_test)\n",
    "    title = \"Accuracy Testing\"\n",
    "\n",
    "    classes = [\"Negative\", \"Positive\"]\n",
    "\n",
    "    plt.imshow(cm, interpolation='nearest', cmap=plt.cm.Blues)\n",
    "    plt.title(title)\n",
    "    plt.colorbar()\n",
    "    tick_marks = np.arange(len(classes))\n",
    "    plt.xticks(tick_marks, classes, rotation=45)\n",
    "    plt.yticks(tick_marks, classes)\n",
    "\n",
    "    fmt = '.2f' if normalize else 'd'\n",
    "    thresh = cm.max() / 2.\n",
    "    for i, j in itertools.product(range(cm.shape[1]), range(cm.shape[0])):\n",
    "        plt.text(j, i, format(cm[j, i], fmt),\n",
    "                 horizontalalignment=\"center\",\n",
    "                 color=\"white\" if cm[i, j] > thresh else \"black\")\n"
   ]
  },
  {
   "cell_type": "code",
   "execution_count": 254,
   "metadata": {},
   "outputs": [],
   "source": [
    "clas = MultinomialTFIDF()\n",
    "dir_name = \"sentiment_data/electronics\"\n",
    "clas.vectorize_dataset(dir_name, \"count\")\n",
    "clas.create_multinomial_tfidf()"
   ]
  },
  {
   "cell_type": "code",
   "execution_count": 255,
   "metadata": {},
   "outputs": [
    {
     "data": {
      "text/plain": [
       "array([0])"
      ]
     },
     "execution_count": 255,
     "metadata": {},
     "output_type": "execute_result"
    }
   ],
   "source": [
    "vectorizer = clas.get_vectorizer()\n",
    "test_review = [\"This product is not bad\",]\n",
    "vectorized_review = vectorizer.transform(test_review)\n",
    "\n",
    "clas.predict(vectorized_review)"
   ]
  },
  {
   "cell_type": "code",
   "execution_count": 256,
   "metadata": {},
   "outputs": [],
   "source": [
    "test = clas.test_multinomial_tfidf()"
   ]
  },
  {
   "cell_type": "code",
   "execution_count": 257,
   "metadata": {},
   "outputs": [
    {
     "name": "stdout",
     "output_type": "stream",
     "text": [
      "True Positive :  161\n",
      "True Negative :  39\n",
      "false Positive :  163\n",
      "false Negative :  37\n",
      "0.81\n"
     ]
    }
   ],
   "source": [
    "calculate_accuracy(test, y_test)"
   ]
  },
  {
   "cell_type": "markdown",
   "metadata": {},
   "source": [
    "# VECTORIZERS"
   ]
  },
  {
   "cell_type": "code",
   "execution_count": 273,
   "metadata": {},
   "outputs": [],
   "source": [
    "dir_name = \"sentiment_data/electronics\"\n",
    "df = create_dataframe(dir_name)\n",
    "X= df.loc[:, 'review']\n",
    "Y= df.loc[:, 'sentiment']\n",
    "\n",
    "x_train, x_test,y_train, y_test = train_test_split(X, Y, test_size = 0.2, random_state = 0)"
   ]
  },
  {
   "cell_type": "markdown",
   "metadata": {},
   "source": [
    "# Count vectorizer"
   ]
  },
  {
   "cell_type": "code",
   "execution_count": 274,
   "metadata": {},
   "outputs": [],
   "source": [
    "count_vect = CountVectorizer(min_df = 1, max_df = 0.8, ngram_range=(1,3))\n",
    "tf_C_train = count_vect.fit_transform(x_train)\n",
    "tf_C_test = count_vect.transform(x_test)"
   ]
  },
  {
   "cell_type": "markdown",
   "metadata": {},
   "source": [
    "# Tfidf Vectorizer"
   ]
  },
  {
   "cell_type": "code",
   "execution_count": 275,
   "metadata": {},
   "outputs": [],
   "source": [
    "tfidf_vect = TfidfVectorizer(min_df = 1, max_df = 0.8, ngram_range=(1,3))\n",
    "tf_T_train = tfidf_vect.fit_transform(x_train)\n",
    "tf_T_test = tfidf_vect.transform(x_test)"
   ]
  },
  {
   "cell_type": "markdown",
   "metadata": {},
   "source": [
    "# Probablistic Model using mulinomial bayes theurom"
   ]
  },
  {
   "cell_type": "code",
   "execution_count": 444,
   "metadata": {},
   "outputs": [],
   "source": [
    "multinomial_BOW = MultinomialNB()\n",
    "multinomial_BOW.fit(tf_C_train, y_train)\n",
    "multinomial_BOW_test = multinomial_BOW.predict(tf_C_test)"
   ]
  },
  {
   "cell_type": "markdown",
   "metadata": {},
   "source": [
    "# Calculating multinomial accuracy using count vectorizer"
   ]
  },
  {
   "cell_type": "code",
   "execution_count": 447,
   "metadata": {},
   "outputs": [
    {
     "name": "stdout",
     "output_type": "stream",
     "text": [
      "True Positive :  170\n",
      "True Negative :  30\n",
      "false Positive :  173\n",
      "false Negative :  27\n",
      "0.8574999999999999\n",
      "None\n"
     ]
    },
    {
     "data": {
      "image/png": "[encoded data removed]",
      "text/plain": [
       "<Figure size 432x288 with 2 Axes>"
      ]
     },
     "metadata": {
      "needs_background": "light"
     },
     "output_type": "display_data"
    }
   ],
   "source": [
    "print(calculate_accuracy(multinomial_BOW_test, y_test))\n",
    "plot_confusionmatrix(multinomial_BOW_test, y_test)"
   ]
  },
  {
   "cell_type": "code",
   "execution_count": 448,
   "metadata": {},
   "outputs": [
    {
     "data": {
      "text/plain": [
       "array([1])"
      ]
     },
     "execution_count": 448,
     "metadata": {},
     "output_type": "execute_result"
    }
   ],
   "source": [
    "test_review = [\"this mobile has nice battery life and good overall performance\",]\n",
    "vectorized_review = count_vect.transform(test_review)\n",
    "multinomial_BOW.predict(vectorized_review)"
   ]
  },
  {
   "cell_type": "markdown",
   "metadata": {},
   "source": [
    "# Using multinomial naive bayes and tfidf"
   ]
  },
  {
   "cell_type": "code",
   "execution_count": 449,
   "metadata": {},
   "outputs": [],
   "source": [
    "multinomial_TF = MultinomialNB()\n",
    "multinomial_TF.fit(tf_T_train, y_train)\n",
    "multinomial_BOW_test = multinomial_TF.predict(tf_T_test)"
   ]
  },
  {
   "cell_type": "code",
   "execution_count": 450,
   "metadata": {},
   "outputs": [
    {
     "name": "stdout",
     "output_type": "stream",
     "text": [
      "True Positive :  162\n",
      "True Negative :  38\n",
      "false Positive :  185\n",
      "false Negative :  15\n",
      "0.8675\n",
      "None\n"
     ]
    },
    {
     "data": {
      "image/png": "[encoded data removed]",
      "text/plain": [
       "<Figure size 432x288 with 2 Axes>"
      ]
     },
     "metadata": {
      "needs_background": "light"
     },
     "output_type": "display_data"
    }
   ],
   "source": [
    "print(calculate_accuracy(multinomial_BOW_test, y_test))\n",
    "plot_confusionmatrix(multinomial_BOW_test, y_test)"
   ]
  },
  {
   "cell_type": "code",
   "execution_count": 281,
   "metadata": {},
   "outputs": [
    {
     "data": {
      "text/plain": [
       "array([1])"
      ]
     },
     "execution_count": 281,
     "metadata": {},
     "output_type": "execute_result"
    }
   ],
   "source": [
    "test_review = [\"I donot like this mobiles camera\",]\n",
    "vectorized_review = tfidf_vect.transform(test_review)\n",
    "multinomial_TF.predict(vectorized_review)"
   ]
  },
  {
   "cell_type": "markdown",
   "metadata": {},
   "source": [
    "# Using Decision tree and tfidf"
   ]
  },
  {
   "cell_type": "code",
   "execution_count": 282,
   "metadata": {},
   "outputs": [
    {
     "name": "stdout",
     "output_type": "stream",
     "text": [
      "True Positive :  136\n",
      "True Negative :  64\n",
      "false Positive :  123\n",
      "false Negative :  77\n",
      "0.6475\n"
     ]
    }
   ],
   "source": [
    "# using decision tree\n",
    "from sklearn import tree\n",
    "tree_classifier = tree.DecisionTreeClassifier()\n",
    "\n",
    "tree_classifier.fit(tf_T_train, y_train.tolist())\n",
    "decision_output = tree_classifier.predict(tf_T_test)"
   ]
  },
  {
   "cell_type": "code",
   "execution_count": 329,
   "metadata": {},
   "outputs": [
    {
     "name": "stdout",
     "output_type": "stream",
     "text": [
      "True Positive :  136\n",
      "True Negative :  64\n",
      "false Positive :  123\n",
      "false Negative :  77\n",
      "0.6475\n",
      "None\n"
     ]
    },
    {
     "data": {
      "image/png": "[encoded data removed]",
      "text/plain": [
       "<Figure size 432x288 with 2 Axes>"
      ]
     },
     "metadata": {
      "needs_background": "light"
     },
     "output_type": "display_data"
    }
   ],
   "source": [
    "print(calculate_accuracy(decision_output, y_test))\n",
    "plot_confusionmatrix(decision_output, y_test)"
   ]
  },
  {
   "cell_type": "code",
   "execution_count": 283,
   "metadata": {},
   "outputs": [
    {
     "data": {
      "text/plain": [
       "array([0])"
      ]
     },
     "execution_count": 283,
     "metadata": {},
     "output_type": "execute_result"
    }
   ],
   "source": [
    "sentence = [\"I do not like this mobile\",]\n",
    "sentence = tfidf_vect.transform(sentence)\n",
    "tree_classifier.predict(sentence)"
   ]
  },
  {
   "cell_type": "markdown",
   "metadata": {},
   "source": [
    "# Using support vector machines and tfidf"
   ]
  },
  {
   "cell_type": "code",
   "execution_count": 284,
   "metadata": {},
   "outputs": [],
   "source": [
    "# using Linear support vector machine\n",
    "classifier_liblinear = svm.LinearSVC()\n",
    "classifier_liblinear.fit(tf_T_train, y_train)\n",
    "prediction_liblinear = classifier_liblinear.predict(tf_T_test)"
   ]
  },
  {
   "cell_type": "code",
   "execution_count": 319,
   "metadata": {},
   "outputs": [
    {
     "name": "stdout",
     "output_type": "stream",
     "text": [
      "True Positive :  172\n",
      "True Negative :  28\n",
      "false Positive :  176\n",
      "false Negative :  24\n",
      "0.87\n",
      "None\n"
     ]
    },
    {
     "data": {
      "image/png": "[encoded data removed]",
      "text/plain": [
       "<Figure size 432x288 with 2 Axes>"
      ]
     },
     "metadata": {
      "needs_background": "light"
     },
     "output_type": "display_data"
    }
   ],
   "source": [
    "print(calculate_accuracy(prediction_liblinear, y_test))\n",
    "plot_confusionmatrix(prediction_liblinear, y_test)"
   ]
  },
  {
   "cell_type": "code",
   "execution_count": 414,
   "metadata": {},
   "outputs": [
    {
     "name": "stdout",
     "output_type": "stream",
     "text": [
      "True Positive :  172\n",
      "True Negative :  28\n",
      "false Positive :  176\n",
      "false Negative :  24\n",
      "0.87\n",
      "True Positive :  136\n",
      "True Negative :  64\n",
      "false Positive :  123\n",
      "false Negative :  77\n",
      "0.6475\n",
      "True Positive :  170\n",
      "True Negative :  30\n",
      "false Positive :  173\n",
      "false Negative :  27\n",
      "0.8574999999999999\n"
     ]
    }
   ],
   "source": []
  },
  {
   "cell_type": "code",
   "execution_count": 443,
   "metadata": {},
   "outputs": [
    {
     "name": "stdout",
     "output_type": "stream",
     "text": [
      "True Positive :  172\n",
      "True Negative :  28\n",
      "false Positive :  176\n",
      "false Negative :  24\n",
      "0.87\n",
      "True Positive :  136\n",
      "True Negative :  64\n",
      "false Positive :  123\n",
      "false Negative :  77\n",
      "0.6475\n",
      "True Positive :  170\n",
      "True Negative :  30\n",
      "false Positive :  173\n",
      "false Negative :  27\n",
      "0.8574999999999999\n"
     ]
    },
    {
     "data": {
      "image/png": "[encoded data removed]",
      "text/plain": [
       "<Figure size 432x288 with 1 Axes>"
      ]
     },
     "metadata": {
      "needs_background": "light"
     },
     "output_type": "display_data"
    }
   ],
   "source": [
    "import numpy as np\n",
    "import matplotlib.pyplot as plt\n",
    " \n",
    "# set width of bar\n",
    "barWidth = 0.25\n",
    "\n",
    "support_vector_a, support_vector_r  = calculate_accuracy(prediction_liblinear, y_test)\n",
    "decision_tree_a, decision_tree_r = calculate_accuracy(decision_output, y_test)\n",
    "naive_bayes_a, naive_bayes_r = calculate_accuracy(multinomial_BOW_test, y_test)\n",
    " \n",
    "# set height of bar\n",
    "sv_bars = list(support_vector_r.values())\n",
    "dt_bars = list(decision_tree_r.values())\n",
    "nb_bars = list(naive_bayes_r.values())\n",
    " \n",
    "# Set position of bar on X axis\n",
    "pos1 = np.arange(len(bars1))\n",
    "pos2 = [x + barWidth for x in pos1]\n",
    "pos3 = [x + barWidth for x in pos2]\n",
    " \n",
    "# Make the plot\n",
    "plt.bar(pos1, sv_bars, color='#7f6d5f', width=barWidth, edgecolor='white', label='Support Vector Machine')\n",
    "plt.bar(pos2, dt_bars, color='#557f2d', width=barWidth, edgecolor='white', label='Decision Tree')\n",
    "plt.bar(pos3, nb_bars, color='#2d7f5e', width=barWidth, edgecolor='white', label='Naive Bayes')\n",
    " \n",
    "# Add xticks on the middle of the group bars\n",
    "plt.xlabel('Machine Learning Models', fontweight='bold')\n",
    "plt.ylabel('Performance', fontweight='bold')\n",
    "plt.xticks([r + barWidth for r in range(len(bars1))], list(support_vector_r.keys()))\n",
    " \n",
    "# Create legend & Show graphic\n",
    "plt.legend()\n",
    "plt.show()\n"
   ]
  },
  {
   "cell_type": "code",
   "execution_count": 440,
   "metadata": {},
   "outputs": [
    {
     "data": {
      "image/png": "[encoded data removed]",
      "text/plain": [
       "<Figure size 432x288 with 1 Axes>"
      ]
     },
     "metadata": {
      "needs_background": "light"
     },
     "output_type": "display_data"
    }
   ],
   "source": [
    "import numpy as np\n",
    "import matplotlib.pyplot as plt\n",
    " \n",
    "# set width of bar\n",
    "barWidth = 0.25\n",
    "\n",
    "# set height of bar\n",
    "sv_bars = list(support_vector_a.values())[0]\n",
    "dt_bars = list(decision_tree_a.values())[0]\n",
    "nb_bars = list(naive_bayes_a.values())[0]\n",
    "\n",
    "bar = [sv_bars * 100, dt_bars * 100, nb_bars * 100]\n",
    " \n",
    "# Set position of bar on X axis\n",
    "pos = np.arange(len(bar))\n",
    " \n",
    "# Make the plot\n",
    "plt.bar(pos, bar, color='b', width=barWidth, edgecolor='white', label='Accuracy')\n",
    "\n",
    " \n",
    "# Add xticks on the middle of the group bars\n",
    "plt.xlabel('Machine Learning Models', fontweight='bold')\n",
    "plt.ylabel('Accuracy in Percent', fontweight='bold')\n",
    "plt.xticks([r + barWidth for r in range(len(bars1))], list([\"Support Vectors\", \"Decision Tree\", \"Naive Bayes\"]))\n",
    " \n",
    "# Create legend & Show graphic\n",
    "plt.legend()\n",
    "plt.show()"
   ]
  },
  {
   "cell_type": "code",
   "execution_count": null,
   "metadata": {},
   "outputs": [],
   "source": []
  }
 ],
 "metadata": {
  "kernelspec": {
   "display_name": "Python 3",
   "language": "python",
   "name": "python3"
  },
  "language_info": {
   "codemirror_mode": {
    "name": "ipython",
    "version": 3
   },
   "file_extension": ".py",
   "mimetype": "text/x-python",
   "name": "python",
   "nbconvert_exporter": "python",
   "pygments_lexer": "ipython3",
   "version": "3.7.1"
  }
 },
 "nbformat": 4,
 "nbformat_minor": 2
}
