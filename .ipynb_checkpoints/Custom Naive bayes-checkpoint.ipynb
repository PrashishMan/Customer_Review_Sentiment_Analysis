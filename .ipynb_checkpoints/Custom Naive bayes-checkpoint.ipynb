{
 "cells": [
  {
   "cell_type": "code",
   "execution_count": 1,
   "metadata": {},
   "outputs": [],
   "source": [
    "import nltk\n",
    "import glob\n",
    "import os\n",
    "import pandas as pd\n",
    "import xml.etree.ElementTree as ET\n",
    "import re\n",
    "from bs4 import BeautifulSoup as bs\n",
    "from bs4 import BeautifulStoneSoup\n",
    "import nltk\n",
    "from nltk.stem.porter import PorterStemmer\n",
    "from nltk.stem.wordnet import WordNetLemmatizer\n",
    "from sklearn.model_selection import train_test_split\n",
    "import numpy as np\n",
    "from sklearn.preprocessing import OneHotEncoder, LabelEncoder\n",
    "from nltk.tokenize import word_tokenize\n",
    "from nltk.corpus import stopwords\n",
    "\n",
    "from sklearn.feature_extraction.text import CountVectorizer\n",
    "from sklearn.naive_bayes import MultinomialNB\n",
    "from sklearn.feature_extraction.text import TfidfVectorizer\n",
    "\n",
    "from nltk import bigrams, FreqDist\n",
    "\n",
    "from sklearn.metrics import confusion_matrix\n",
    "import matplotlib.pyplot as plt\n",
    "from sklearn.metrics import confusion_matrix\n",
    "import itertools"
   ]
  },
  {
   "cell_type": "code",
   "execution_count": 2,
   "metadata": {},
   "outputs": [],
   "source": [
    "# Extraciting review from the files\n",
    "\n",
    "def read_file(file_path = \"sentiment_data/dvd\", file_name = \"negative.review\"):\n",
    "    files = glob.glob(file_path)\n",
    "    data = []\n",
    "    labels = {}\n",
    "    sentiment = file_name.split(\".\")[0]\n",
    "    review_file = os.path.join(file_path, file_name)\n",
    "    file = glob.glob(review_file)[0]\n",
    "\n",
    "    with open(file) as review:\n",
    "        xml_string = review.read()\n",
    "        soup = bs(xml_string)\n",
    "\n",
    "        for i in soup.find_all('review_text'):\n",
    "            text = bs(i.get_text())\n",
    "            data.append(text.get_text())\n",
    "    return data\n",
    "\n",
    "def create_dataframe(dir_name):\n",
    "    final_data = []\n",
    "    for filename in ['positive.review', 'negative.review']:\n",
    "        data = read_file(file_path=dir_name, file_name=filename)\n",
    "        final_data.append({\"review\" : data, \"sentiment\" : filename.split(\".\")[0]})\n",
    "\n",
    "    df = pd.DataFrame().from_dict(final_data[0])\n",
    "    df2 = pd.DataFrame().from_dict(final_data[1])\n",
    "    df = df.append(df2)\n",
    "    df = df_preprocessing(df)\n",
    "    return df"
   ]
  },
  {
   "cell_type": "code",
   "execution_count": 3,
   "metadata": {},
   "outputs": [],
   "source": [
    "# Data Preprocessing\n",
    "\n",
    "def df_preprocessing(df):\n",
    "    label_encoder = LabelEncoder()\n",
    "    sentiment_series = label_encoder.fit_transform(df.loc[:, \"sentiment\"])\n",
    "    df.drop(\"sentiment\", axis=1)\n",
    "    df['sentiment'] = sentiment_series\n",
    "    return df\n",
    "\n",
    "def normalize(review):\n",
    "    review = review\n",
    "    review = review.lower()\n",
    "    #remove punctuation(.,!,:)\n",
    "    review = re.sub(r\"[^a-zA-Z0-9]\", \" \", review)\n",
    "    \n",
    "    return review\n",
    "\n",
    "def tokenize(words):\n",
    "    words = np.array(word_tokenize(words))\n",
    "    unique_words = set()\n",
    "    for i in words:\n",
    "        unique_words.add(i)\n",
    "    return unique_words\n",
    "\n",
    "# stemming and lemmatization\n",
    "def stem_lemma_word(words):\n",
    "    valid_words = []\n",
    "    stemmed = [PorterStemmer().stem(w) for w in words]\n",
    "    lemmed = [WordNetLemmatizer().lemmatize(w) for w in stemmed]\n",
    "    for word in lemmed:\n",
    "        if word not in stopwords.words('english'):\n",
    "            valid_words.append(word)\n",
    "    return valid_words\n",
    " \n",
    "\n",
    "def get_combined_text(series):\n",
    "    combined_text = \"\"\n",
    "    for i in series.iteritems():\n",
    "           combined_text += i[1]\n",
    "    return combined_text    \n",
    "    \n",
    "def get_vocabulary(series):\n",
    "    sentences = get_combined_text(series)\n",
    "    words = tokenizer(sentence=sentences)\n",
    "    bigrams_words = bigrams(words)\n",
    "    bigrams_freq = FreqDist(bigrams_words)\n",
    "    double_words = []\n",
    "    \n",
    "    for key, value in bigrams_freq.items():\n",
    "        double_words.append(key[0] + \" \" + key[1])\n",
    "    \n",
    "    for word in double_words:\n",
    "        words.append(word)\n",
    "    \n",
    "    return set(words)\n",
    "\n",
    "def get_BOW(series):\n",
    "    words = get_vocabulary(series)\n",
    "    vect = CountVectorizer(vocabulary=words, min_df=2, max_df=0.8)\n",
    "    vect2 = vect.fit_transform(series)\n",
    "    vect_list = vect2.toarray()\n",
    "\n",
    "    df_count = pd.DataFrame(vect_list, columns=vect.get_feature_names())\n",
    "    df_count.head()\n",
    "    return df_count\n",
    "\n",
    "def tokenizer(sentence):\n",
    "#   Converting sentences into lower characters and removing any punctuations\n",
    "    normalize_words = normalize(sentence)    \n",
    "#   Converting sentences into list of words\n",
    "    \n",
    "    tokenize_words = tokenize(normalize_words)\n",
    "    \n",
    "#   converting sentences into base forms\n",
    "    stemm_lemma_words = stem_lemma_word(tokenize_words)\n",
    "    \n",
    "    return stemm_lemma_words\n",
    "\n",
    "# Sentiment Classification algorithm\n",
    "# Preprocessing new sentecnes\n",
    "def pred_text_preprocessing(text):\n",
    "    words = normalize(text)\n",
    "    words = word_tokenize(text)\n",
    "    words =stem_lemma_word(words)\n",
    "    return words\n",
    "\n",
    "# Creating a model\n",
    "# Calculating the probablity\n",
    "def calculate_prob(sentence, df2, total_word_positive_count, total_word_negative_count, positive_prob, negative_prob, vocabulary):\n",
    "#     Calculating the prior probablity\n",
    "    words_count = dict()\n",
    "    \n",
    "    prop_yes_given_word = 1\n",
    "    prop_no_given_word = 1\n",
    "    \n",
    "#   Calculating conditional probablity \n",
    "#   Calculating the positive probablity\n",
    "    for word in pred_text_preprocessing(sentence):\n",
    "        if(word and word in df2.columns.tolist()):\n",
    "            prop_yes_given_word *= (np.sum(df2[(df2[\"sentiment\"] == 1)][word]) + 1)/\\\n",
    "            (total_word_positive_count + vocabulary)\n",
    "            prop_no_given_word *= (np.sum(df2[(df2[\"sentiment\"] == 0)][word]) + 1)/\\\n",
    "            (total_word_negative_count + vocabulary)\n",
    "    \n",
    "    \n",
    "    prop_yes_given_word = positive_prob * prop_yes_given_word    \n",
    "    prop_no_given_word = negative_prob * prop_no_given_word\n",
    "        \n",
    "    print(prop_yes_given_word)\n",
    "    print(prop_no_given_word)\n",
    "    \n",
    "    if(prop_yes_given_word > prop_no_given_word):\n",
    "        return \"Positive\"\n",
    "    \n",
    "    return \"Negative\"\n",
    "\n",
    "#making predictions\n",
    "def make_predictions(sentence, probablity_df):\n",
    "    total = len(probablity_df[\"sentiment\"])\n",
    "    positive = len(probablity_df[(probablity_df[\"sentiment\"] == 1)])\n",
    "    negative = total-positive\n",
    "\n",
    "    vocabulary = len(probablity_df.columns)\n",
    "    tp_count = np.sum(np.sum(probablity_df[probablity_df['sentiment'] == 1]))\n",
    "    tn_count = np.sum(np.sum(probablity_df[probablity_df['sentiment'] == 0]))\n",
    "\n",
    "    #   Calculating the prior probablities\n",
    "    positive_prob = positive/total\n",
    "    negative_prob = negative/total\n",
    "    \n",
    "    print(positive_prob, negative_prob)\n",
    "    \n",
    "    prob = calculate_prob(sentence, probablity_df, total_word_positive_count = tp_count,\n",
    "                          total_word_negative_count = tn_count, positive_prob = positive_prob,\n",
    "                          negative_prob = negative_prob, vocabulary = vocabulary)\n",
    "    \n",
    "    return prob  \n",
    "\n"
   ]
  },
  {
   "cell_type": "code",
   "execution_count": 4,
   "metadata": {},
   "outputs": [],
   "source": [
    "def plot_confusionmatrix(y_pred, t_test):\n",
    "    cm = confusion_matrix(y_pred, y_test)\n",
    "    title = \"Accuracy Testing\"\n",
    "\n",
    "    classes = [\"Negative\", \"Positive\"]\n",
    "\n",
    "    plt.imshow(cm, interpolation='nearest', cmap=plt.cm.Blues)\n",
    "    plt.title(title)\n",
    "    plt.colorbar()\n",
    "    tick_marks = np.arange(len(classes))\n",
    "    plt.xticks(tick_marks, classes, rotation=45)\n",
    "    plt.yticks(tick_marks, classes)\n",
    "\n",
    "    fmt = '.2f' if normalize else 'd'\n",
    "    thresh = cm.max() / 2.\n",
    "    for i, j in itertools.product(range(cm.shape[1]), range(cm.shape[0])):\n",
    "        plt.text(j, i, format(cm[j, i], fmt),\n",
    "                 horizontalalignment=\"center\",\n",
    "                 color=\"white\" if cm[i, j] > thresh else \"black\")\n"
   ]
  },
  {
   "cell_type": "code",
   "execution_count": 5,
   "metadata": {},
   "outputs": [],
   "source": [
    "# calculate_prob(\"This is bad product\", probablity_df)"
   ]
  },
  {
   "cell_type": "code",
   "execution_count": 6,
   "metadata": {},
   "outputs": [
    {
     "ename": "IndexError",
     "evalue": "list index out of range",
     "output_type": "error",
     "traceback": [
      "\u001b[0;31m---------------------------------------------------------------------------\u001b[0m",
      "\u001b[0;31mIndexError\u001b[0m                                Traceback (most recent call last)",
      "\u001b[0;32m<ipython-input-6-9c2c50fee04b>\u001b[0m in \u001b[0;36m<module>\u001b[0;34m\u001b[0m\n\u001b[1;32m      1\u001b[0m \u001b[0mdir_name\u001b[0m \u001b[0;34m=\u001b[0m \u001b[0;34m\"sentiment_data/electronics\"\u001b[0m\u001b[0;34m\u001b[0m\u001b[0;34m\u001b[0m\u001b[0m\n\u001b[0;32m----> 2\u001b[0;31m \u001b[0mdf\u001b[0m \u001b[0;34m=\u001b[0m \u001b[0mcreate_dataframe\u001b[0m\u001b[0;34m(\u001b[0m\u001b[0mdir_name\u001b[0m\u001b[0;34m)\u001b[0m\u001b[0;34m\u001b[0m\u001b[0;34m\u001b[0m\u001b[0m\n\u001b[0m\u001b[1;32m      3\u001b[0m \u001b[0mX\u001b[0m\u001b[0;34m=\u001b[0m \u001b[0mdf\u001b[0m\u001b[0;34m.\u001b[0m\u001b[0mloc\u001b[0m\u001b[0;34m[\u001b[0m\u001b[0;34m:\u001b[0m\u001b[0;34m,\u001b[0m \u001b[0;34m'review'\u001b[0m\u001b[0;34m]\u001b[0m\u001b[0;34m\u001b[0m\u001b[0;34m\u001b[0m\u001b[0m\n\u001b[1;32m      4\u001b[0m \u001b[0mY\u001b[0m\u001b[0;34m=\u001b[0m \u001b[0mdf\u001b[0m\u001b[0;34m.\u001b[0m\u001b[0mloc\u001b[0m\u001b[0;34m[\u001b[0m\u001b[0;34m:\u001b[0m\u001b[0;34m,\u001b[0m \u001b[0;34m'sentiment'\u001b[0m\u001b[0;34m]\u001b[0m\u001b[0;34m\u001b[0m\u001b[0;34m\u001b[0m\u001b[0m\n\u001b[1;32m      5\u001b[0m \u001b[0;34m\u001b[0m\u001b[0m\n",
      "\u001b[0;32m<ipython-input-2-17136860c5f6>\u001b[0m in \u001b[0;36mcreate_dataframe\u001b[0;34m(dir_name)\u001b[0m\n\u001b[1;32m     21\u001b[0m     \u001b[0mfinal_data\u001b[0m \u001b[0;34m=\u001b[0m \u001b[0;34m[\u001b[0m\u001b[0;34m]\u001b[0m\u001b[0;34m\u001b[0m\u001b[0;34m\u001b[0m\u001b[0m\n\u001b[1;32m     22\u001b[0m     \u001b[0;32mfor\u001b[0m \u001b[0mfilename\u001b[0m \u001b[0;32min\u001b[0m \u001b[0;34m[\u001b[0m\u001b[0;34m'positive.review'\u001b[0m\u001b[0;34m,\u001b[0m \u001b[0;34m'negative.review'\u001b[0m\u001b[0;34m]\u001b[0m\u001b[0;34m:\u001b[0m\u001b[0;34m\u001b[0m\u001b[0;34m\u001b[0m\u001b[0m\n\u001b[0;32m---> 23\u001b[0;31m         \u001b[0mdata\u001b[0m \u001b[0;34m=\u001b[0m \u001b[0mread_file\u001b[0m\u001b[0;34m(\u001b[0m\u001b[0mfile_path\u001b[0m\u001b[0;34m=\u001b[0m\u001b[0mdir_name\u001b[0m\u001b[0;34m,\u001b[0m \u001b[0mfile_name\u001b[0m\u001b[0;34m=\u001b[0m\u001b[0mfilename\u001b[0m\u001b[0;34m)\u001b[0m\u001b[0;34m\u001b[0m\u001b[0;34m\u001b[0m\u001b[0m\n\u001b[0m\u001b[1;32m     24\u001b[0m         \u001b[0mfinal_data\u001b[0m\u001b[0;34m.\u001b[0m\u001b[0mappend\u001b[0m\u001b[0;34m(\u001b[0m\u001b[0;34m{\u001b[0m\u001b[0;34m\"review\"\u001b[0m \u001b[0;34m:\u001b[0m \u001b[0mdata\u001b[0m\u001b[0;34m,\u001b[0m \u001b[0;34m\"sentiment\"\u001b[0m \u001b[0;34m:\u001b[0m \u001b[0mfilename\u001b[0m\u001b[0;34m.\u001b[0m\u001b[0msplit\u001b[0m\u001b[0;34m(\u001b[0m\u001b[0;34m\".\"\u001b[0m\u001b[0;34m)\u001b[0m\u001b[0;34m[\u001b[0m\u001b[0;36m0\u001b[0m\u001b[0;34m]\u001b[0m\u001b[0;34m}\u001b[0m\u001b[0;34m)\u001b[0m\u001b[0;34m\u001b[0m\u001b[0;34m\u001b[0m\u001b[0m\n\u001b[1;32m     25\u001b[0m \u001b[0;34m\u001b[0m\u001b[0m\n",
      "\u001b[0;32m<ipython-input-2-17136860c5f6>\u001b[0m in \u001b[0;36mread_file\u001b[0;34m(file_path, file_name)\u001b[0m\n\u001b[1;32m      7\u001b[0m     \u001b[0msentiment\u001b[0m \u001b[0;34m=\u001b[0m \u001b[0mfile_name\u001b[0m\u001b[0;34m.\u001b[0m\u001b[0msplit\u001b[0m\u001b[0;34m(\u001b[0m\u001b[0;34m\".\"\u001b[0m\u001b[0;34m)\u001b[0m\u001b[0;34m[\u001b[0m\u001b[0;36m0\u001b[0m\u001b[0;34m]\u001b[0m\u001b[0;34m\u001b[0m\u001b[0;34m\u001b[0m\u001b[0m\n\u001b[1;32m      8\u001b[0m     \u001b[0mreview_file\u001b[0m \u001b[0;34m=\u001b[0m \u001b[0mos\u001b[0m\u001b[0;34m.\u001b[0m\u001b[0mpath\u001b[0m\u001b[0;34m.\u001b[0m\u001b[0mjoin\u001b[0m\u001b[0;34m(\u001b[0m\u001b[0mfile_path\u001b[0m\u001b[0;34m,\u001b[0m \u001b[0mfile_name\u001b[0m\u001b[0;34m)\u001b[0m\u001b[0;34m\u001b[0m\u001b[0;34m\u001b[0m\u001b[0m\n\u001b[0;32m----> 9\u001b[0;31m     \u001b[0mfile\u001b[0m \u001b[0;34m=\u001b[0m \u001b[0mglob\u001b[0m\u001b[0;34m.\u001b[0m\u001b[0mglob\u001b[0m\u001b[0;34m(\u001b[0m\u001b[0mreview_file\u001b[0m\u001b[0;34m)\u001b[0m\u001b[0;34m[\u001b[0m\u001b[0;36m0\u001b[0m\u001b[0;34m]\u001b[0m\u001b[0;34m\u001b[0m\u001b[0;34m\u001b[0m\u001b[0m\n\u001b[0m\u001b[1;32m     10\u001b[0m \u001b[0;34m\u001b[0m\u001b[0m\n\u001b[1;32m     11\u001b[0m     \u001b[0;32mwith\u001b[0m \u001b[0mopen\u001b[0m\u001b[0;34m(\u001b[0m\u001b[0mfile\u001b[0m\u001b[0;34m)\u001b[0m \u001b[0;32mas\u001b[0m \u001b[0mreview\u001b[0m\u001b[0;34m:\u001b[0m\u001b[0;34m\u001b[0m\u001b[0;34m\u001b[0m\u001b[0m\n",
      "\u001b[0;31mIndexError\u001b[0m: list index out of range"
     ]
    }
   ],
   "source": [
    "dir_name = \"sentiment_data/electronics\"\n",
    "df = create_dataframe(dir_name)\n",
    "X= df.loc[:, 'review']\n",
    "Y= df.loc[:, 'sentiment']\n",
    "\n",
    "x_train, x_test,y_train, y_test = train_test_split(X, Y, test_size = 0.2, random_state = 0)\n",
    "# reviews = df.loc[:, 'review']\n",
    "training_df = pd.DataFrame()\n",
    "training_df['review'] = x_train\n",
    "training_df['sentiment'] = y_train\n",
    "\n",
    "probablity_df = get_BOW(x_train)\n",
    "probablity_df['sentiment'] = y_train.tolist()\n",
    "\n",
    "total = len(probablity_df[\"sentiment\"])\n",
    "positive = len(probablity_df[(probablity_df[\"sentiment\"] == 1)])\n",
    "negative = total-positive\n",
    "\n",
    "vocabulary = len(probablity_df.columns)\n",
    "tp_count = np.sum(np.sum(probablity_df[probablity_df['sentiment'] == 1]))\n",
    "tn_count = np.sum(np.sum(probablity_df[probablity_df['sentiment'] == 0]))\n",
    "\n",
    "#   Calculating the prior probablities\n",
    "positive_prob = positive/total\n",
    "negative_prob = negative/total\n"
   ]
  },
  {
   "cell_type": "code",
   "execution_count": 36,
   "metadata": {},
   "outputs": [
    {
     "name": "stdout",
     "output_type": "stream",
     "text": [
      "0.5 0.5\n",
      "2.8210297257893035e-126\n",
      "1.4680749273229506e-126\n"
     ]
    },
    {
     "data": {
      "text/plain": [
       "'Positive'"
      ]
     },
     "execution_count": 36,
     "metadata": {},
     "output_type": "execute_result"
    }
   ],
   "source": [
    "text = \"I ordered 3 APC Back-UPS ES 500s on the recommendation of an employee of mine who used\\\n",
    "    to work at APC. I've had them for about a month now without any problems. They've functioned properly\\\n",
    "    through a few unexpected power interruptions. I'll gladly order more if the need arises.\\n\\nPros:\\n - \\\n",
    "    Large plug spacing, good for power adapters\\n - Simple design\\n - Long cord\\n\\nCons:\\n - No line conditioning \"\n",
    "make_predictions(text, probablity_df=probablity_df)"
   ]
  },
  {
   "cell_type": "code",
   "execution_count": 30,
   "metadata": {},
   "outputs": [
    {
     "name": "stdout",
     "output_type": "stream",
     "text": [
      "1.7809922197175832e-249\n",
      "1.193319232740318e-249\n",
      "0 1\n",
      "1.4881119618725065e-176\n",
      "7.099764184619634e-173\n",
      "1 0\n",
      "7.337115111871774e-168\n",
      "4.640809999915805e-167\n",
      "2 0\n"
     ]
    },
    {
     "name": "stderr",
     "output_type": "stream",
     "text": [
      "ERROR:root:Internal Python error in the inspect module.\n",
      "Below is the traceback from this internal error.\n",
      "\n"
     ]
    },
    {
     "name": "stdout",
     "output_type": "stream",
     "text": [
      "Traceback (most recent call last):\n",
      "  File \"/Library/Frameworks/Python.framework/Versions/3.7/lib/python3.7/site-packages/IPython/core/interactiveshell.py\", line 3267, in run_code\n",
      "    exec(code_obj, self.user_global_ns, self.user_ns)\n",
      "  File \"<ipython-input-30-1886670f5d69>\", line 6, in <module>\n",
      "    negative_prob = negative_prob, vocabulary = vocabulary)\n",
      "  File \"<ipython-input-23-57594afb05e7>\", line 102, in calculate_prob\n",
      "    prop_no_given_word *= (np.sum(df2[(df2[\"sentiment\"] == 0)][word]) + 1)/\\\n",
      "  File \"/Library/Frameworks/Python.framework/Versions/3.7/lib/python3.7/site-packages/pandas/core/frame.py\", line 2682, in __getitem__\n",
      "    return self._getitem_array(key)\n",
      "  File \"/Library/Frameworks/Python.framework/Versions/3.7/lib/python3.7/site-packages/pandas/core/frame.py\", line 2724, in _getitem_array\n",
      "    return self._take(indexer, axis=0)\n",
      "  File \"/Library/Frameworks/Python.framework/Versions/3.7/lib/python3.7/site-packages/pandas/core/generic.py\", line 2789, in _take\n",
      "    verify=True)\n",
      "  File \"/Library/Frameworks/Python.framework/Versions/3.7/lib/python3.7/site-packages/pandas/core/internals.py\", line 4539, in take\n",
      "    axis=axis, allow_dups=True)\n",
      "  File \"/Library/Frameworks/Python.framework/Versions/3.7/lib/python3.7/site-packages/pandas/core/internals.py\", line 4425, in reindex_indexer\n",
      "    for blk in self.blocks]\n",
      "  File \"/Library/Frameworks/Python.framework/Versions/3.7/lib/python3.7/site-packages/pandas/core/internals.py\", line 4425, in <listcomp>\n",
      "    for blk in self.blocks]\n",
      "  File \"/Library/Frameworks/Python.framework/Versions/3.7/lib/python3.7/site-packages/pandas/core/internals.py\", line 1258, in take_nd\n",
      "    allow_fill=True, fill_value=fill_value)\n",
      "  File \"/Library/Frameworks/Python.framework/Versions/3.7/lib/python3.7/site-packages/pandas/core/algorithms.py\", line 1659, in take_nd\n",
      "    func(arr, indexer, out, fill_value)\n",
      "KeyboardInterrupt\n",
      "\n",
      "During handling of the above exception, another exception occurred:\n",
      "\n",
      "Traceback (most recent call last):\n",
      "  File \"/Library/Frameworks/Python.framework/Versions/3.7/lib/python3.7/site-packages/IPython/core/interactiveshell.py\", line 2018, in showtraceback\n",
      "    stb = value._render_traceback_()\n",
      "AttributeError: 'KeyboardInterrupt' object has no attribute '_render_traceback_'\n",
      "\n",
      "During handling of the above exception, another exception occurred:\n",
      "\n",
      "Traceback (most recent call last):\n",
      "  File \"/Library/Frameworks/Python.framework/Versions/3.7/lib/python3.7/site-packages/IPython/core/ultratb.py\", line 1095, in get_records\n",
      "    return _fixed_getinnerframes(etb, number_of_lines_of_context, tb_offset)\n",
      "  File \"/Library/Frameworks/Python.framework/Versions/3.7/lib/python3.7/site-packages/IPython/core/ultratb.py\", line 313, in wrapped\n",
      "    return f(*args, **kwargs)\n",
      "  File \"/Library/Frameworks/Python.framework/Versions/3.7/lib/python3.7/site-packages/IPython/core/ultratb.py\", line 347, in _fixed_getinnerframes\n",
      "    records = fix_frame_records_filenames(inspect.getinnerframes(etb, context))\n",
      "  File \"/Library/Frameworks/Python.framework/Versions/3.7/lib/python3.7/inspect.py\", line 1500, in getinnerframes\n",
      "    frameinfo = (tb.tb_frame,) + getframeinfo(tb, context)\n",
      "  File \"/Library/Frameworks/Python.framework/Versions/3.7/lib/python3.7/inspect.py\", line 1458, in getframeinfo\n",
      "    filename = getsourcefile(frame) or getfile(frame)\n",
      "  File \"/Library/Frameworks/Python.framework/Versions/3.7/lib/python3.7/inspect.py\", line 696, in getsourcefile\n",
      "    if getattr(getmodule(object, filename), '__loader__', None) is not None:\n",
      "  File \"/Library/Frameworks/Python.framework/Versions/3.7/lib/python3.7/inspect.py\", line 732, in getmodule\n",
      "    for modname, module in list(sys.modules.items()):\n",
      "KeyboardInterrupt\n"
     ]
    },
    {
     "ename": "KeyboardInterrupt",
     "evalue": "",
     "output_type": "error",
     "traceback": [
      "\u001b[0;31m---------------------------------------------------------------------------\u001b[0m"
     ]
    }
   ],
   "source": [
    "\n",
    "test_pred = []\n",
    "for ind, item in enumerate(x_test.iteritems()):\n",
    "    prob = calculate_prob(item[1], probablity_df, total_word_positive_count = tp_count,\n",
    "                          total_word_negative_count = tn_count, positive_prob = positive_prob,\n",
    "                          negative_prob = negative_prob, vocabulary = vocabulary)\n",
    "    label = 1 if prob == \"Positive\" else 0\n",
    "    print(ind, label)\n",
    "    test_pred.append(label)"
   ]
  },
  {
   "cell_type": "code",
   "execution_count": 17,
   "metadata": {},
   "outputs": [],
   "source": [
    "def calculate_accuracy(test_pred):\n",
    "    true_positive = 0;\n",
    "    true_negative = 0;\n",
    "    false_positive = 0;\n",
    "    false_negative = 0;\n",
    "    correct = 0\n",
    "    for ind, i in enumerate(y_test.iteritems()):        \n",
    "        if(i[1] == 1 and test_pred[ind] == 1):\n",
    "                true_positive += 1\n",
    "\n",
    "        if(i[1] == 1 and test_pred[ind] == 0):\n",
    "                true_negative += 1\n",
    "\n",
    "        if(i[1] == 0 and test_pred[ind] == 0):\n",
    "                false_positive += 1\n",
    "\n",
    "        if(i[1] == 0 and test_pred[ind] == 1):\n",
    "                false_negative += 1\n",
    "\n",
    "    print(\"True Positive : \" , true_positive)\n",
    "    print(\"True Negative : \" , true_negative)\n",
    "    print(\"false Positive : \" , false_positive)\n",
    "    print(\"false Negative : \" , false_negative)\n",
    "\n",
    "    true_prob = true_positive/(true_positive + true_negative)\n",
    "    false_prob = false_positive/(false_positive + false_negative)\n",
    "    print((true_prob + false_prob)/2)"
   ]
  },
  {
   "cell_type": "code",
   "execution_count": 27,
   "metadata": {},
   "outputs": [
    {
     "name": "stdout",
     "output_type": "stream",
     "text": [
      "True Positive :  100\n",
      "True Negative :  100\n",
      "false Positive :  174\n",
      "false Negative :  26\n",
      "0.685\n"
     ]
    },
    {
     "data": {
      "image/png": "[encoded data removed]",
      "text/plain": [
       "<Figure size 432x288 with 2 Axes>"
      ]
     },
     "metadata": {
      "needs_background": "light"
     },
     "output_type": "display_data"
    }
   ],
   "source": [
    "calculate_accuracy(test_pred)\n",
    "plot_confusionmatrix(test_pred, y_test)"
   ]
  },
  {
   "cell_type": "code",
   "execution_count": 12,
   "metadata": {},
   "outputs": [],
   "source": [
    "probablity_df.to_csv(\"count_bow.csv\", encoding='utf-8')"
   ]
  },
  {
   "cell_type": "code",
   "execution_count": 13,
   "metadata": {},
   "outputs": [
    {
     "name": "stdout",
     "output_type": "stream",
     "text": [
      "CustomModel.py                   \u001b[34mcache\u001b[m\u001b[m/\r\n",
      "ModelHandler.py                  \u001b[34mcollege\u001b[m\u001b[m/\r\n",
      "NaturalLanguageProcessing.ipynb  count_bow.csv\r\n",
      "New.ipynb                        \u001b[34mdata\u001b[m\u001b[m/\r\n",
      "Sentiment Analysis.ipynb         \u001b[34mdata2\u001b[m\u001b[m/\r\n",
      "SentimentAnalysisAmazone.ipynb   domain_sentiment_data.tar.gz\r\n",
      "Untitled.ipynb                   model.py\r\n",
      "Without using libraries.ipynb    model3.py\r\n",
      "\u001b[34m__pycache__\u001b[m\u001b[m/                     multinomial_CNB.py\r\n",
      "app.py                           regex.ipynb\r\n",
      "app1.py                          \u001b[34msentiment_data\u001b[m\u001b[m/\r\n"
     ]
    }
   ],
   "source": [
    "ls"
   ]
  },
  {
   "cell_type": "code",
   "execution_count": 14,
   "metadata": {},
   "outputs": [],
   "source": [
    "!open ."
   ]
  },
  {
   "cell_type": "code",
   "execution_count": 5,
   "metadata": {},
   "outputs": [
    {
     "ename": "NameError",
     "evalue": "name 'probablity_df' is not defined",
     "output_type": "error",
     "traceback": [
      "\u001b[0;31m---------------------------------------------------------------------------\u001b[0m",
      "\u001b[0;31mNameError\u001b[0m                                 Traceback (most recent call last)",
      "\u001b[0;32m<ipython-input-5-d0edae3adde3>\u001b[0m in \u001b[0;36m<module>\u001b[0;34m\u001b[0m\n\u001b[0;32m----> 1\u001b[0;31m \u001b[0mmake_predictions\u001b[0m\u001b[0;34m(\u001b[0m\u001b[0;34m\"This is not a good product and it lacks battery life\"\u001b[0m\u001b[0;34m,\u001b[0m \u001b[0mprobablity_df\u001b[0m\u001b[0;34m=\u001b[0m\u001b[0mprobablity_df\u001b[0m\u001b[0;34m)\u001b[0m\u001b[0;34m\u001b[0m\u001b[0;34m\u001b[0m\u001b[0m\n\u001b[0m",
      "\u001b[0;31mNameError\u001b[0m: name 'probablity_df' is not defined"
     ]
    }
   ],
   "source": []
  },
  {
   "cell_type": "code",
   "execution_count": 16,
   "metadata": {},
   "outputs": [
    {
     "data": {
      "text/plain": [
       "Index(['0', '0 action', '0 extort', '00', '00 rude', '000', '000 archaic',\n",
       "       '002', '002 immers', '00ghz',\n",
       "       ...\n",
       "       'zoo rest', 'zoom', 'zoom establish', 'zr', 'zr paddl', 'zune',\n",
       "       'zune bullet', 'zz', 'zz eight', 'sentiment'],\n",
       "      dtype='object', length=17357)"
      ]
     },
     "execution_count": 16,
     "metadata": {},
     "output_type": "execute_result"
    }
   ],
   "source": [
    "probablity_df.columns"
   ]
  },
  {
   "cell_type": "code",
   "execution_count": null,
   "metadata": {},
   "outputs": [],
   "source": []
  }
 ],
 "metadata": {
  "kernelspec": {
   "display_name": "Python 3",
   "language": "python",
   "name": "python3"
  },
  "language_info": {
   "codemirror_mode": {
    "name": "ipython",
    "version": 3
   },
   "file_extension": ".py",
   "mimetype": "text/x-python",
   "name": "python",
   "nbconvert_exporter": "python",
   "pygments_lexer": "ipython3",
   "version": "3.7.1"
  }
 },
 "nbformat": 4,
 "nbformat_minor": 2
}
